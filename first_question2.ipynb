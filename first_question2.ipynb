{
 "cells": [
  {
   "cell_type": "code",
   "execution_count": 95,
   "id": "81a188b2-561b-4e00-95ca-32189165ec41",
   "metadata": {
    "tags": []
   },
   "outputs": [],
   "source": [
    "# 导入库\n",
    "import pandas as pd\n",
    "import numpy as np\n",
    "import matplotlib.pyplot as plt"
   ]
  },
  {
   "cell_type": "code",
   "execution_count": 96,
   "id": "e96190de-921c-4ed7-843a-3c759454e717",
   "metadata": {
    "tags": []
   },
   "outputs": [],
   "source": [
    "# 查看数据\n",
    "data_count=pd.read_csv('./食品销售数据集-销售明细表.csv')\n",
    "\n",
    "data_store=pd.read_csv('./食品销售数据集-门店表.csv')\n",
    "\n",
    "data_single=pd.read_csv('./食品销售数据集-销售目标表.csv')"
   ]
  },
  {
   "cell_type": "code",
   "execution_count": 97,
   "id": "2f0dba2e-dd90-41a6-a8bb-77a8feb7ae34",
   "metadata": {
    "tags": []
   },
   "outputs": [
    {
     "data": {
      "text/html": [
       "<div>\n",
       "<style scoped>\n",
       "    .dataframe tbody tr th:only-of-type {\n",
       "        vertical-align: middle;\n",
       "    }\n",
       "\n",
       "    .dataframe tbody tr th {\n",
       "        vertical-align: top;\n",
       "    }\n",
       "\n",
       "    .dataframe thead th {\n",
       "        text-align: right;\n",
       "    }\n",
       "</style>\n",
       "<table border=\"1\" class=\"dataframe\">\n",
       "  <thead>\n",
       "    <tr style=\"text-align: right;\">\n",
       "      <th></th>\n",
       "      <th>id</th>\n",
       "      <th>store_name</th>\n",
       "      <th>area</th>\n",
       "      <th>province</th>\n",
       "      <th>city</th>\n",
       "      <th>province_code</th>\n",
       "      <th>city_code</th>\n",
       "    </tr>\n",
       "  </thead>\n",
       "  <tbody>\n",
       "    <tr>\n",
       "      <th>0</th>\n",
       "      <td>AH001</td>\n",
       "      <td>安徽1号店</td>\n",
       "      <td>华东</td>\n",
       "      <td>安徽省</td>\n",
       "      <td>合肥市</td>\n",
       "      <td>340000</td>\n",
       "      <td>340100.0</td>\n",
       "    </tr>\n",
       "    <tr>\n",
       "      <th>1</th>\n",
       "      <td>AH002</td>\n",
       "      <td>安徽2号店</td>\n",
       "      <td>华东</td>\n",
       "      <td>安徽省</td>\n",
       "      <td>芜湖市</td>\n",
       "      <td>340000</td>\n",
       "      <td>340200.0</td>\n",
       "    </tr>\n",
       "    <tr>\n",
       "      <th>2</th>\n",
       "      <td>AH003</td>\n",
       "      <td>安徽3号店</td>\n",
       "      <td>华东</td>\n",
       "      <td>安徽省</td>\n",
       "      <td>阜阳市</td>\n",
       "      <td>340000</td>\n",
       "      <td>341200.0</td>\n",
       "    </tr>\n",
       "    <tr>\n",
       "      <th>3</th>\n",
       "      <td>AH004</td>\n",
       "      <td>安徽4号店</td>\n",
       "      <td>华东</td>\n",
       "      <td>安徽省</td>\n",
       "      <td>宿州市</td>\n",
       "      <td>340000</td>\n",
       "      <td>341300.0</td>\n",
       "    </tr>\n",
       "    <tr>\n",
       "      <th>4</th>\n",
       "      <td>AH005</td>\n",
       "      <td>安徽5号店</td>\n",
       "      <td>华东</td>\n",
       "      <td>安徽省</td>\n",
       "      <td>安庆市</td>\n",
       "      <td>340000</td>\n",
       "      <td>340800.0</td>\n",
       "    </tr>\n",
       "  </tbody>\n",
       "</table>\n",
       "</div>"
      ],
      "text/plain": [
       "      id store_name area province city  province_code  city_code\n",
       "0  AH001      安徽1号店   华东      安徽省  合肥市         340000   340100.0\n",
       "1  AH002      安徽2号店   华东      安徽省  芜湖市         340000   340200.0\n",
       "2  AH003      安徽3号店   华东      安徽省  阜阳市         340000   341200.0\n",
       "3  AH004      安徽4号店   华东      安徽省  宿州市         340000   341300.0\n",
       "4  AH005      安徽5号店   华东      安徽省  安庆市         340000   340800.0"
      ]
     },
     "execution_count": 97,
     "metadata": {},
     "output_type": "execute_result"
    }
   ],
   "source": [
    "data_store.head()"
   ]
  },
  {
   "cell_type": "code",
   "execution_count": 98,
   "id": "6ac0dc2f-0113-441e-94df-84dee915d25c",
   "metadata": {
    "tags": []
   },
   "outputs": [
    {
     "data": {
      "text/html": [
       "<div>\n",
       "<style scoped>\n",
       "    .dataframe tbody tr th:only-of-type {\n",
       "        vertical-align: middle;\n",
       "    }\n",
       "\n",
       "    .dataframe tbody tr th {\n",
       "        vertical-align: top;\n",
       "    }\n",
       "\n",
       "    .dataframe thead th {\n",
       "        text-align: right;\n",
       "    }\n",
       "</style>\n",
       "<table border=\"1\" class=\"dataframe\">\n",
       "  <thead>\n",
       "    <tr style=\"text-align: right;\">\n",
       "      <th></th>\n",
       "      <th>date</th>\n",
       "      <th>area</th>\n",
       "      <th>province</th>\n",
       "      <th>city</th>\n",
       "      <th>sales_target</th>\n",
       "    </tr>\n",
       "  </thead>\n",
       "  <tbody>\n",
       "    <tr>\n",
       "      <th>0</th>\n",
       "      <td>1/1/2021 00:00:00</td>\n",
       "      <td>东北</td>\n",
       "      <td>黑龙江省</td>\n",
       "      <td>哈尔滨市</td>\n",
       "      <td>13000</td>\n",
       "    </tr>\n",
       "    <tr>\n",
       "      <th>1</th>\n",
       "      <td>1/2/2021 00:00:00</td>\n",
       "      <td>东北</td>\n",
       "      <td>黑龙江省</td>\n",
       "      <td>哈尔滨市</td>\n",
       "      <td>11000</td>\n",
       "    </tr>\n",
       "    <tr>\n",
       "      <th>2</th>\n",
       "      <td>1/3/2021 00:00:00</td>\n",
       "      <td>东北</td>\n",
       "      <td>黑龙江省</td>\n",
       "      <td>哈尔滨市</td>\n",
       "      <td>14000</td>\n",
       "    </tr>\n",
       "    <tr>\n",
       "      <th>3</th>\n",
       "      <td>1/4/2021 00:00:00</td>\n",
       "      <td>东北</td>\n",
       "      <td>黑龙江省</td>\n",
       "      <td>哈尔滨市</td>\n",
       "      <td>14000</td>\n",
       "    </tr>\n",
       "    <tr>\n",
       "      <th>4</th>\n",
       "      <td>1/5/2021 00:00:00</td>\n",
       "      <td>东北</td>\n",
       "      <td>黑龙江省</td>\n",
       "      <td>哈尔滨市</td>\n",
       "      <td>15000</td>\n",
       "    </tr>\n",
       "  </tbody>\n",
       "</table>\n",
       "</div>"
      ],
      "text/plain": [
       "                date area province  city  sales_target\n",
       "0  1/1/2021 00:00:00   东北     黑龙江省  哈尔滨市         13000\n",
       "1  1/2/2021 00:00:00   东北     黑龙江省  哈尔滨市         11000\n",
       "2  1/3/2021 00:00:00   东北     黑龙江省  哈尔滨市         14000\n",
       "3  1/4/2021 00:00:00   东北     黑龙江省  哈尔滨市         14000\n",
       "4  1/5/2021 00:00:00   东北     黑龙江省  哈尔滨市         15000"
      ]
     },
     "execution_count": 98,
     "metadata": {},
     "output_type": "execute_result"
    }
   ],
   "source": [
    "data_single.head()"
   ]
  },
  {
   "cell_type": "code",
   "execution_count": 99,
   "id": "1d59aa5f-de1b-45c5-b272-d0d8e4220ba7",
   "metadata": {
    "tags": []
   },
   "outputs": [
    {
     "data": {
      "text/html": [
       "<div>\n",
       "<style scoped>\n",
       "    .dataframe tbody tr th:only-of-type {\n",
       "        vertical-align: middle;\n",
       "    }\n",
       "\n",
       "    .dataframe tbody tr th {\n",
       "        vertical-align: top;\n",
       "    }\n",
       "\n",
       "    .dataframe thead th {\n",
       "        text-align: right;\n",
       "    }\n",
       "</style>\n",
       "<table border=\"1\" class=\"dataframe\">\n",
       "  <thead>\n",
       "    <tr style=\"text-align: right;\">\n",
       "      <th></th>\n",
       "      <th>date</th>\n",
       "      <th>order_id</th>\n",
       "      <th>store_id</th>\n",
       "      <th>user_id</th>\n",
       "      <th>pro_id</th>\n",
       "      <th>quantity</th>\n",
       "      <th>amount</th>\n",
       "    </tr>\n",
       "  </thead>\n",
       "  <tbody>\n",
       "    <tr>\n",
       "      <th>0</th>\n",
       "      <td>5/4/2019 00:00:00</td>\n",
       "      <td>od_000001</td>\n",
       "      <td>SC013</td>\n",
       "      <td>cus_00001</td>\n",
       "      <td>pro_0001</td>\n",
       "      <td>2</td>\n",
       "      <td>576.00</td>\n",
       "    </tr>\n",
       "    <tr>\n",
       "      <th>1</th>\n",
       "      <td>10/8/2019 00:00:00</td>\n",
       "      <td>od_000002</td>\n",
       "      <td>HAIN007</td>\n",
       "      <td>cus_00002</td>\n",
       "      <td>pro_0002</td>\n",
       "      <td>1</td>\n",
       "      <td>29.50</td>\n",
       "    </tr>\n",
       "    <tr>\n",
       "      <th>2</th>\n",
       "      <td>7/6/2019 00:00:00</td>\n",
       "      <td>od_000003</td>\n",
       "      <td>JS007</td>\n",
       "      <td>cus_00003</td>\n",
       "      <td>pro_0003</td>\n",
       "      <td>1</td>\n",
       "      <td>2.49</td>\n",
       "    </tr>\n",
       "    <tr>\n",
       "      <th>3</th>\n",
       "      <td>12/12/2019 00:00:00</td>\n",
       "      <td>od_000004</td>\n",
       "      <td>HLJ005</td>\n",
       "      <td>cus_00004</td>\n",
       "      <td>pro_0004</td>\n",
       "      <td>4</td>\n",
       "      <td>1184.00</td>\n",
       "    </tr>\n",
       "    <tr>\n",
       "      <th>4</th>\n",
       "      <td>22/9/2019 00:00:00</td>\n",
       "      <td>od_000005</td>\n",
       "      <td>SD005</td>\n",
       "      <td>cus_00005</td>\n",
       "      <td>pro_0005</td>\n",
       "      <td>1</td>\n",
       "      <td>0.00</td>\n",
       "    </tr>\n",
       "  </tbody>\n",
       "</table>\n",
       "</div>"
      ],
      "text/plain": [
       "                  date   order_id store_id    user_id    pro_id  quantity  \\\n",
       "0    5/4/2019 00:00:00  od_000001    SC013  cus_00001  pro_0001         2   \n",
       "1   10/8/2019 00:00:00  od_000002  HAIN007  cus_00002  pro_0002         1   \n",
       "2    7/6/2019 00:00:00  od_000003    JS007  cus_00003  pro_0003         1   \n",
       "3  12/12/2019 00:00:00  od_000004   HLJ005  cus_00004  pro_0004         4   \n",
       "4   22/9/2019 00:00:00  od_000005    SD005  cus_00005  pro_0005         1   \n",
       "\n",
       "    amount  \n",
       "0   576.00  \n",
       "1    29.50  \n",
       "2     2.49  \n",
       "3  1184.00  \n",
       "4     0.00  "
      ]
     },
     "execution_count": 99,
     "metadata": {},
     "output_type": "execute_result"
    }
   ],
   "source": [
    "data_count.head()"
   ]
  },
  {
   "cell_type": "code",
   "execution_count": 100,
   "id": "a7794c23-c640-4104-9cab-7cee21ffa14e",
   "metadata": {
    "tags": []
   },
   "outputs": [
    {
     "name": "stdout",
     "output_type": "stream",
     "text": [
      "<class 'pandas.core.frame.DataFrame'>\n",
      "RangeIndex: 1003872 entries, 0 to 1003871\n",
      "Data columns (total 7 columns):\n",
      " #   Column    Non-Null Count    Dtype  \n",
      "---  ------    --------------    -----  \n",
      " 0   date      1003872 non-null  object \n",
      " 1   order_id  1003872 non-null  object \n",
      " 2   store_id  1003872 non-null  object \n",
      " 3   user_id   1003872 non-null  object \n",
      " 4   pro_id    1003872 non-null  object \n",
      " 5   quantity  1003872 non-null  int64  \n",
      " 6   amount    1003872 non-null  float64\n",
      "dtypes: float64(1), int64(1), object(5)\n",
      "memory usage: 53.6+ MB\n"
     ]
    }
   ],
   "source": [
    "# 数据基本情况\n",
    "data_count.info()"
   ]
  },
  {
   "cell_type": "code",
   "execution_count": 101,
   "id": "376e1c8a-350c-4bdf-ad8f-a39dcd4cadd9",
   "metadata": {
    "tags": []
   },
   "outputs": [
    {
     "data": {
      "text/plain": [
       "Index(['date', 'order_id', 'store_id', 'user_id', 'pro_id', 'quantity',\n",
       "       'amount'],\n",
       "      dtype='object')"
      ]
     },
     "execution_count": 101,
     "metadata": {},
     "output_type": "execute_result"
    }
   ],
   "source": [
    "data_count.columns"
   ]
  },
  {
   "cell_type": "code",
   "execution_count": 102,
   "id": "3401a1aa-5716-4fbf-9d98-e3a74ec24c7e",
   "metadata": {
    "tags": []
   },
   "outputs": [],
   "source": [
    "data_count['date'] = pd.to_datetime(data_count['date'], format=\"%d/%m/%Y %H:%M:%S\", dayfirst=True)"
   ]
  },
  {
   "cell_type": "code",
   "execution_count": 103,
   "id": "b0ffa75d-b7b9-4b28-911e-a44021b9b5c9",
   "metadata": {
    "tags": []
   },
   "outputs": [
    {
     "data": {
      "text/html": [
       "<div>\n",
       "<style scoped>\n",
       "    .dataframe tbody tr th:only-of-type {\n",
       "        vertical-align: middle;\n",
       "    }\n",
       "\n",
       "    .dataframe tbody tr th {\n",
       "        vertical-align: top;\n",
       "    }\n",
       "\n",
       "    .dataframe thead th {\n",
       "        text-align: right;\n",
       "    }\n",
       "</style>\n",
       "<table border=\"1\" class=\"dataframe\">\n",
       "  <thead>\n",
       "    <tr style=\"text-align: right;\">\n",
       "      <th></th>\n",
       "      <th>date</th>\n",
       "      <th>order_id</th>\n",
       "      <th>store_id</th>\n",
       "      <th>user_id</th>\n",
       "      <th>pro_id</th>\n",
       "      <th>quantity</th>\n",
       "      <th>amount</th>\n",
       "    </tr>\n",
       "  </thead>\n",
       "  <tbody>\n",
       "    <tr>\n",
       "      <th>0</th>\n",
       "      <td>2019-04-05</td>\n",
       "      <td>od_000001</td>\n",
       "      <td>SC013</td>\n",
       "      <td>cus_00001</td>\n",
       "      <td>pro_0001</td>\n",
       "      <td>2</td>\n",
       "      <td>576.00</td>\n",
       "    </tr>\n",
       "    <tr>\n",
       "      <th>1</th>\n",
       "      <td>2019-08-10</td>\n",
       "      <td>od_000002</td>\n",
       "      <td>HAIN007</td>\n",
       "      <td>cus_00002</td>\n",
       "      <td>pro_0002</td>\n",
       "      <td>1</td>\n",
       "      <td>29.50</td>\n",
       "    </tr>\n",
       "    <tr>\n",
       "      <th>2</th>\n",
       "      <td>2019-06-07</td>\n",
       "      <td>od_000003</td>\n",
       "      <td>JS007</td>\n",
       "      <td>cus_00003</td>\n",
       "      <td>pro_0003</td>\n",
       "      <td>1</td>\n",
       "      <td>2.49</td>\n",
       "    </tr>\n",
       "    <tr>\n",
       "      <th>3</th>\n",
       "      <td>2019-12-12</td>\n",
       "      <td>od_000004</td>\n",
       "      <td>HLJ005</td>\n",
       "      <td>cus_00004</td>\n",
       "      <td>pro_0004</td>\n",
       "      <td>4</td>\n",
       "      <td>1184.00</td>\n",
       "    </tr>\n",
       "    <tr>\n",
       "      <th>4</th>\n",
       "      <td>2019-09-22</td>\n",
       "      <td>od_000005</td>\n",
       "      <td>SD005</td>\n",
       "      <td>cus_00005</td>\n",
       "      <td>pro_0005</td>\n",
       "      <td>1</td>\n",
       "      <td>0.00</td>\n",
       "    </tr>\n",
       "  </tbody>\n",
       "</table>\n",
       "</div>"
      ],
      "text/plain": [
       "        date   order_id store_id    user_id    pro_id  quantity   amount\n",
       "0 2019-04-05  od_000001    SC013  cus_00001  pro_0001         2   576.00\n",
       "1 2019-08-10  od_000002  HAIN007  cus_00002  pro_0002         1    29.50\n",
       "2 2019-06-07  od_000003    JS007  cus_00003  pro_0003         1     2.49\n",
       "3 2019-12-12  od_000004   HLJ005  cus_00004  pro_0004         4  1184.00\n",
       "4 2019-09-22  od_000005    SD005  cus_00005  pro_0005         1     0.00"
      ]
     },
     "execution_count": 103,
     "metadata": {},
     "output_type": "execute_result"
    }
   ],
   "source": [
    "data_count.head()"
   ]
  },
  {
   "cell_type": "code",
   "execution_count": 104,
   "id": "8191bd7b-2804-447b-99f1-9db2043ce34b",
   "metadata": {
    "tags": []
   },
   "outputs": [
    {
     "data": {
      "text/html": [
       "<div>\n",
       "<style scoped>\n",
       "    .dataframe tbody tr th:only-of-type {\n",
       "        vertical-align: middle;\n",
       "    }\n",
       "\n",
       "    .dataframe tbody tr th {\n",
       "        vertical-align: top;\n",
       "    }\n",
       "\n",
       "    .dataframe thead th {\n",
       "        text-align: right;\n",
       "    }\n",
       "</style>\n",
       "<table border=\"1\" class=\"dataframe\">\n",
       "  <thead>\n",
       "    <tr style=\"text-align: right;\">\n",
       "      <th></th>\n",
       "      <th>quantity</th>\n",
       "      <th>amount</th>\n",
       "    </tr>\n",
       "  </thead>\n",
       "  <tbody>\n",
       "    <tr>\n",
       "      <th>count</th>\n",
       "      <td>1.003872e+06</td>\n",
       "      <td>1.003872e+06</td>\n",
       "    </tr>\n",
       "    <tr>\n",
       "      <th>mean</th>\n",
       "      <td>1.212818e+00</td>\n",
       "      <td>4.946559e+01</td>\n",
       "    </tr>\n",
       "    <tr>\n",
       "      <th>std</th>\n",
       "      <td>9.272480e-01</td>\n",
       "      <td>1.240613e+02</td>\n",
       "    </tr>\n",
       "    <tr>\n",
       "      <th>min</th>\n",
       "      <td>-4.800000e+01</td>\n",
       "      <td>-2.464000e+03</td>\n",
       "    </tr>\n",
       "    <tr>\n",
       "      <th>25%</th>\n",
       "      <td>1.000000e+00</td>\n",
       "      <td>1.280000e+01</td>\n",
       "    </tr>\n",
       "    <tr>\n",
       "      <th>50%</th>\n",
       "      <td>1.000000e+00</td>\n",
       "      <td>2.500000e+01</td>\n",
       "    </tr>\n",
       "    <tr>\n",
       "      <th>75%</th>\n",
       "      <td>1.000000e+00</td>\n",
       "      <td>3.990000e+01</td>\n",
       "    </tr>\n",
       "    <tr>\n",
       "      <th>max</th>\n",
       "      <td>1.080000e+02</td>\n",
       "      <td>2.368000e+03</td>\n",
       "    </tr>\n",
       "  </tbody>\n",
       "</table>\n",
       "</div>"
      ],
      "text/plain": [
       "           quantity        amount\n",
       "count  1.003872e+06  1.003872e+06\n",
       "mean   1.212818e+00  4.946559e+01\n",
       "std    9.272480e-01  1.240613e+02\n",
       "min   -4.800000e+01 -2.464000e+03\n",
       "25%    1.000000e+00  1.280000e+01\n",
       "50%    1.000000e+00  2.500000e+01\n",
       "75%    1.000000e+00  3.990000e+01\n",
       "max    1.080000e+02  2.368000e+03"
      ]
     },
     "execution_count": 104,
     "metadata": {},
     "output_type": "execute_result"
    }
   ],
   "source": [
    "# 字段描述\n",
    "data_count.describe()"
   ]
  },
  {
   "cell_type": "code",
   "execution_count": null,
   "id": "0190d813-a8cf-4208-9384-fc19e0c9d713",
   "metadata": {},
   "outputs": [],
   "source": []
  },
  {
   "cell_type": "code",
   "execution_count": null,
   "id": "15f2cfb1-dcf8-4dae-836e-84bfda1b626a",
   "metadata": {},
   "outputs": [],
   "source": []
  },
  {
   "cell_type": "code",
   "execution_count": 105,
   "id": "db6fd035-645e-46f2-a2b3-821e4b1dc6ad",
   "metadata": {
    "tags": []
   },
   "outputs": [],
   "source": [
    "plt.rcParams[\"font.sans-serif\"] = [\"SimHei\"]  # 用来显示中文\n",
    "plt.rcParams[\"axes.unicode_minus\"] = False  # 用来显示负号\n",
    "#忽略警告\n",
    "import warnings\n",
    "warnings.filterwarnings('ignore')"
   ]
  },
  {
   "cell_type": "code",
   "execution_count": 106,
   "id": "d5312672-c926-4a7a-afde-086c4b2d8612",
   "metadata": {
    "tags": []
   },
   "outputs": [
    {
     "name": "stdout",
     "output_type": "stream",
     "text": [
      "              date   order_id       id    user_id    pro_id  quantity   amount\n",
      "0       2019-04-05  od_000001    SC013  cus_00001  pro_0001         2   576.00\n",
      "1       2019-08-10  od_000002  HAIN007  cus_00002  pro_0002         1    29.50\n",
      "2       2019-06-07  od_000003    JS007  cus_00003  pro_0003         1     2.49\n",
      "3       2019-12-12  od_000004   HLJ005  cus_00004  pro_0004         4  1184.00\n",
      "4       2019-09-22  od_000005    SD005  cus_00005  pro_0005         1     0.00\n",
      "...            ...        ...      ...        ...       ...       ...      ...\n",
      "1003867 2021-03-08  od_644618    SC002  cus_97156  pro_0001         3   811.20\n",
      "1003868 2021-01-14  od_543679    SD011  cus_53874  pro_0802         1     5.00\n",
      "1003869 2021-02-09  od_644619    GZ009  cus_93979  pro_0851         2    44.80\n",
      "1003870 2021-03-25  od_644620    JL001  cus_93075  pro_0482         1     1.22\n",
      "1003871 2021-05-19  od_644621    HB013  cus_95147  pro_0422         2    28.28\n",
      "\n",
      "[1003872 rows x 7 columns]\n"
     ]
    }
   ],
   "source": [
    "data_new_count =data_count.rename(columns={'store_id': 'id'})\n",
    "print(data_new_count)"
   ]
  },
  {
   "cell_type": "code",
   "execution_count": null,
   "id": "16f4caa4-2877-4ee1-ac78-92ac91adbafb",
   "metadata": {},
   "outputs": [],
   "source": []
  },
  {
   "cell_type": "code",
   "execution_count": 107,
   "id": "ac11cebb-ffe5-4d94-af3f-f07802331fa0",
   "metadata": {
    "tags": []
   },
   "outputs": [
    {
     "name": "stdout",
     "output_type": "stream",
     "text": [
      "                    date area province  city  sales_target\n",
      "0      1/1/2021 00:00:00   东北     黑龙江省  哈尔滨市         13000\n",
      "1      1/2/2021 00:00:00   东北     黑龙江省  哈尔滨市         11000\n",
      "2      1/3/2021 00:00:00   东北     黑龙江省  哈尔滨市         14000\n",
      "3      1/4/2021 00:00:00   东北     黑龙江省  哈尔滨市         14000\n",
      "4      1/5/2021 00:00:00   东北     黑龙江省  哈尔滨市         15000\n",
      "...                  ...  ...      ...   ...           ...\n",
      "1639   1/8/2021 00:00:00   西南      重庆市   重庆市         19000\n",
      "1640   1/9/2021 00:00:00   西南      重庆市   重庆市         18000\n",
      "1641  1/10/2021 00:00:00   西南      重庆市   重庆市         17000\n",
      "1642  1/11/2021 00:00:00   西南      重庆市   重庆市         17000\n",
      "1643  1/12/2021 00:00:00   西南      重庆市   重庆市         17000\n",
      "\n",
      "[1396 rows x 5 columns]\n"
     ]
    }
   ],
   "source": [
    "data_no_zeros = data_single[data_single['sales_target'] != 0]\n",
    "print(data_no_zeros)"
   ]
  },
  {
   "cell_type": "code",
   "execution_count": 108,
   "id": "fd0aef73-193d-409e-8028-07b75a87ce81",
   "metadata": {
    "tags": []
   },
   "outputs": [
    {
     "name": "stdout",
     "output_type": "stream",
     "text": [
      "              date   order_id       id    user_id    pro_id  quantity  amount\n",
      "14708   2021-05-15  od_012757  HAIN001  cus_01148  pro_0135         1    0.00\n",
      "14709   2021-05-31  od_012758    ZJ003  cus_04654  pro_0447         1   15.39\n",
      "14710   2021-01-04  od_012759   HUN001  cus_00911  pro_0727         1    0.00\n",
      "14711   2021-05-26  od_012760   HLJ004  cus_03527  pro_0207         4   23.20\n",
      "14730   2021-04-10  od_012774    SH006  cus_00918  pro_0306         1   50.00\n",
      "...            ...        ...      ...        ...       ...       ...     ...\n",
      "1003867 2021-03-08  od_644618    SC002  cus_97156  pro_0001         3  811.20\n",
      "1003868 2021-01-14  od_543679    SD011  cus_53874  pro_0802         1    5.00\n",
      "1003869 2021-02-09  od_644619    GZ009  cus_93979  pro_0851         2   44.80\n",
      "1003870 2021-03-25  od_644620    JL001  cus_93075  pro_0482         1    1.22\n",
      "1003871 2021-05-19  od_644621    HB013  cus_95147  pro_0422         2   28.28\n",
      "\n",
      "[168228 rows x 7 columns]\n"
     ]
    }
   ],
   "source": [
    "# 假设 df 是你的 DataFrame，包含 'date' 列\n",
    "# 替换 'date' 为你实际的日期列名\n",
    "data_new_count['date'] = pd.to_datetime(data_new_count['date'])  # 将日期列转换为 datetime 类型\n",
    "\n",
    "# 提取 2021 年的数据\n",
    "data_2021 = data_new_count[data_new_count['date'].dt.year == 2021]\n",
    "\n",
    "# 输出 2021 年的数据\n",
    "print(data_2021)\n"
   ]
  },
  {
   "cell_type": "code",
   "execution_count": 109,
   "id": "d8cc867a-c629-49c1-90b5-041a9cd38664",
   "metadata": {
    "tags": []
   },
   "outputs": [
    {
     "name": "stdout",
     "output_type": "stream",
     "text": [
      "            id store_name area province city  province_code  city_code  \\\n",
      "0        AH001      安徽1号店   华东      安徽省  合肥市         340000   340100.0   \n",
      "1        AH001      安徽1号店   华东      安徽省  合肥市         340000   340100.0   \n",
      "2        AH001      安徽1号店   华东      安徽省  合肥市         340000   340100.0   \n",
      "3        AH001      安徽1号店   华东      安徽省  合肥市         340000   340100.0   \n",
      "4        AH001      安徽1号店   华东      安徽省  合肥市         340000   340100.0   \n",
      "...        ...        ...  ...      ...  ...            ...        ...   \n",
      "168281  HEN012     河南12号店   华中      河南省  洛阳市         410000   410300.0   \n",
      "168282  HEN013     河南13号店   华中      河南省  郑州市         410000   410100.0   \n",
      "168283  HEN014     河南14号店   华中      河南省  南阳市         410000   411300.0   \n",
      "168284  HEN015     河南15号店   华中      河南省  新乡市         410000   410700.0   \n",
      "168285  HEN016     河南16号店   华中      河南省  信阳市         410000   411500.0   \n",
      "\n",
      "        quantity  amount  \n",
      "0            2.0    6.00  \n",
      "1            1.0   13.80  \n",
      "2            1.0    7.90  \n",
      "3            1.0   19.00  \n",
      "4            1.0    1.50  \n",
      "...          ...     ...  \n",
      "168281       NaN     NaN  \n",
      "168282       NaN     NaN  \n",
      "168283       NaN     NaN  \n",
      "168284       NaN     NaN  \n",
      "168285       3.0   31.86  \n",
      "\n",
      "[168286 rows x 9 columns]\n"
     ]
    }
   ],
   "source": [
    "# 合并两个 DataFrame，按照 'id' 列进行合并\n",
    "merged_data = pd.merge(data_store, data_2021[['id', 'quantity', 'amount']], left_on='id', right_on='id', how='left')\n",
    "\n",
    "# 输出合并后的 DataFrame\n",
    "print(merged_data)\n"
   ]
  },
  {
   "cell_type": "code",
   "execution_count": 110,
   "id": "77f4ce84-b9c7-4503-bdf0-d0f2f5afd974",
   "metadata": {
    "tags": []
   },
   "outputs": [
    {
     "data": {
      "image/png": "[encoded data removed]",
      "text/plain": [
       "<Figure size 432x288 with 1 Axes>"
      ]
     },
     "metadata": {
      "needs_background": "light"
     },
     "output_type": "display_data"
    }
   ],
   "source": [
    "# 将date字段转换为日期类型\n",
    "data_count['date'] = pd.to_datetime(data_count['date'])\n",
    "\n",
    "# 根据年份分组，并计算quantity和amount的总和\n",
    "grouped_data = data_count.groupby(data_count['date'].dt.year).agg({'quantity': 'sum', 'amount': 'sum'})\n",
    "\n",
    "# 选择2019年、2020年和2021年的数据\n",
    "grouped_data = grouped_data.loc[[2019, 2020, 2021]]\n",
    "\n",
    "# 绘制折线图\n",
    "plt.plot(grouped_data.index, grouped_data['quantity'], marker='o', linestyle='-', color='b', label='quantity')\n",
    "plt.plot(grouped_data.index, grouped_data['amount'], marker='s', linestyle='--', color='r', label='amount')\n",
    "\n",
    "# 设置图例和坐标轴标签\n",
    "plt.legend()\n",
    "plt.xlabel('年份')\n",
    "plt.ylabel('总销售额/总销售量')\n",
    "\n",
    "# 设置x轴刻度\n",
    "plt.xticks([2019, 2020, 2021])\n",
    "\n",
    "# 显示网格线\n",
    "plt.grid(True)\n",
    "\n",
    "# 显示图像\n",
    "plt.show()\n"
   ]
  },
  {
   "cell_type": "code",
   "execution_count": 111,
   "id": "0bfa52bb-0d1d-4de7-a6d6-c77d44b25bcb",
   "metadata": {
    "tags": []
   },
   "outputs": [],
   "source": [
    "result_area = merged_data.groupby('area')[['quantity', 'amount']].sum().reset_index()"
   ]
  },
  {
   "cell_type": "code",
   "execution_count": 112,
   "id": "60b66dfa-bb88-4121-ab7e-2f68129118f9",
   "metadata": {
    "tags": []
   },
   "outputs": [],
   "source": [
    "result0 = merged_data.groupby('city')[['quantity', 'amount']].sum().reset_index()"
   ]
  },
  {
   "cell_type": "code",
   "execution_count": 113,
   "id": "d7cd2a2b-9c86-4f7d-9860-0a8e409e1290",
   "metadata": {},
   "outputs": [],
   "source": [
    "result_provice = merged_data.groupby('province')[['quantity', 'amount']].sum().reset_index()"
   ]
  },
  {
   "cell_type": "code",
   "execution_count": 114,
   "id": "f97cc768-c37e-4ffb-b9dd-4d1f6a90eda7",
   "metadata": {
    "tags": []
   },
   "outputs": [
    {
     "name": "stdout",
     "output_type": "stream",
     "text": [
      "      city  sales_target\n",
      "0      三亚市        610000\n",
      "1      上海市        781000\n",
      "2      上饶市         70000\n",
      "3      东方市        122000\n",
      "4      临汾市         81000\n",
      "..     ...           ...\n",
      "112    黄冈市         70000\n",
      "113   黔东南州        100000\n",
      "114    黔南州        211000\n",
      "115   黔西南州         37000\n",
      "116  齐齐哈尔市        190000\n",
      "\n",
      "[117 rows x 2 columns]\n"
     ]
    }
   ],
   "source": [
    "result1 = data_no_zeros.groupby('city')['sales_target'].sum().reset_index()\n",
    "\n",
    "# 如果你想要查看合并后的结果\n",
    "print(result1)\n"
   ]
  },
  {
   "cell_type": "code",
   "execution_count": 115,
   "id": "8b2ba587-cf6c-415e-8ff7-d8dcd4a9bbbb",
   "metadata": {
    "tags": []
   },
   "outputs": [
    {
     "name": "stdout",
     "output_type": "stream",
     "text": [
      "   province  sales_target\n",
      "0       上海市        781000\n",
      "1       云南省        762000\n",
      "2       北京市       1150000\n",
      "3       吉林省       1237000\n",
      "4       四川省       1114000\n",
      "5       天津市       1090000\n",
      "6       安徽省        659000\n",
      "7       山东省        986000\n",
      "8       山西省        996000\n",
      "9       广东省       1120000\n",
      "10      江苏省       1911000\n",
      "11      江西省        561000\n",
      "12      河北省       2197000\n",
      "13      河南省        539000\n",
      "14      浙江省        745000\n",
      "15      海南省        899000\n",
      "16      湖北省        491000\n",
      "17      湖南省        318000\n",
      "18      甘肃省       1578000\n",
      "19      福建省        639000\n",
      "20      贵州省        466000\n",
      "21      辽宁省        733000\n",
      "22      重庆市        201000\n",
      "23      陕西省        816000\n",
      "24      青海省       1440000\n",
      "25     黑龙江省        571000\n"
     ]
    }
   ],
   "source": [
    "result_province_single = data_no_zeros.groupby('province')['sales_target'].sum().reset_index()\n",
    "\n",
    "# 如果你想要查看合并后的结果\n",
    "print(result_province_single)\n"
   ]
  },
  {
   "cell_type": "code",
   "execution_count": 116,
   "id": "b514fb75-26f1-4609-ab4e-a9f0670185b3",
   "metadata": {
    "tags": []
   },
   "outputs": [
    {
     "name": "stdout",
     "output_type": "stream",
     "text": [
      "  area  sales_target\n",
      "0   东北       2541000\n",
      "1   华东       6282000\n",
      "2   华中       1348000\n",
      "3   华北       5433000\n",
      "4   华南       2019000\n",
      "5   西北       3834000\n",
      "6   西南       2543000\n"
     ]
    }
   ],
   "source": [
    "result_area_single = data_no_zeros.groupby('area')['sales_target'].sum().reset_index()\n",
    "\n",
    "# 如果你想要查看合并后的结果\n",
    "print(result_area_single)\n"
   ]
  },
  {
   "cell_type": "code",
   "execution_count": 117,
   "id": "cef6d23d-5409-408f-8eb9-e8b03f2e514d",
   "metadata": {
    "tags": []
   },
   "outputs": [
    {
     "name": "stdout",
     "output_type": "stream",
     "text": [
      "      city  quantity     amount  sales_target\n",
      "0      三亚市    5715.0  195375.55      610000.0\n",
      "1      上海市    6051.0  237841.16      781000.0\n",
      "2      上饶市     846.0   29834.88       70000.0\n",
      "3      东方市     841.0   30945.06      122000.0\n",
      "4      东莞市      17.0     292.80           NaN\n",
      "..     ...       ...        ...           ...\n",
      "131    黄冈市    1293.0   40815.04       70000.0\n",
      "132   黔东南州    1014.0   40216.79      100000.0\n",
      "133    黔南州    2013.0   71108.85      211000.0\n",
      "134   黔西南州     823.0   28942.63       37000.0\n",
      "135  齐齐哈尔市    1806.0   53597.34      190000.0\n",
      "\n",
      "[136 rows x 4 columns]\n"
     ]
    }
   ],
   "source": [
    "# 假设 df1 和 df2 是两个 DataFrame，有一个相同的 'id' 列\n",
    "# df1 包含其他列，df2 包含需要添加的两列数据 'column1' 和 'column2'\n",
    "\n",
    "# 合并两个 DataFrame，按照 'id' 列进行合并\n",
    "merged_data_new = pd.merge(result0, result1[['city', 'sales_target']], on='city', how='left')\n",
    "\n",
    "# 输出合并后的 DataFrame\n",
    "print(merged_data_new)\n"
   ]
  },
  {
   "cell_type": "code",
   "execution_count": 118,
   "id": "d183c25f-df15-44f1-babe-43f45d95eef0",
   "metadata": {
    "tags": []
   },
   "outputs": [
    {
     "name": "stdout",
     "output_type": "stream",
     "text": [
      "      city  quantity     amount  sales_target\n",
      "0      三亚市    5715.0  195375.55      610000.0\n",
      "1      上海市    6051.0  237841.16      781000.0\n",
      "2      上饶市     846.0   29834.88       70000.0\n",
      "3      东方市     841.0   30945.06      122000.0\n",
      "6      临汾市     678.0   34743.84       81000.0\n",
      "..     ...       ...        ...           ...\n",
      "131    黄冈市    1293.0   40815.04       70000.0\n",
      "132   黔东南州    1014.0   40216.79      100000.0\n",
      "133    黔南州    2013.0   71108.85      211000.0\n",
      "134   黔西南州     823.0   28942.63       37000.0\n",
      "135  齐齐哈尔市    1806.0   53597.34      190000.0\n",
      "\n",
      "[117 rows x 4 columns]\n"
     ]
    }
   ],
   "source": [
    "# 假设 df 是你的 DataFrame，包含需要处理的列 'column_name'\n",
    "# 请替换 'column_name' 为你实际的列名\n",
    "\n",
    "# 删除包含缺失值的行\n",
    "merged_data_new_list = merged_data_new.dropna(subset=['sales_target'])\n",
    "\n",
    "# 输出处理后的 DataFrame\n",
    "print(merged_data_new_list)\n"
   ]
  },
  {
   "cell_type": "code",
   "execution_count": 119,
   "id": "a927c69b-bf67-4e54-b14f-ba8b810d70d5",
   "metadata": {
    "tags": []
   },
   "outputs": [
    {
     "name": "stdout",
     "output_type": "stream",
     "text": [
      "  area  quantity      amount  sales_target\n",
      "0   东北   20102.0   767502.30       2541000\n",
      "1   华东   50584.0  1812065.25       6282000\n",
      "2   华中   12516.0   482347.78       1348000\n",
      "3   华北   48593.0  1756890.02       5433000\n",
      "4   华南   17013.0   658831.58       2019000\n",
      "5   西北   30725.0  1142067.32       3834000\n",
      "6   西南   24235.0   870045.21       2543000\n"
     ]
    }
   ],
   "source": [
    "# 假设 df1 和 df2 是两个 DataFrame，有一个相同的 'id' 列\n",
    "# df1 包含其他列，df2 包含需要添加的两列数据 'column1' 和 'column2'\n",
    "\n",
    "# 合并两个 DataFrame，按照 'id' 列进行合并\n",
    "merged_area_new = pd.merge(result_area, result_area_single[['area', 'sales_target']], on='area', how='left')\n",
    "\n",
    "# 输出合并后的 DataFrame\n",
    "print(merged_area_new)\n",
    "\n"
   ]
  },
  {
   "cell_type": "code",
   "execution_count": 120,
   "id": "7334dec1-f562-4179-a483-49418250566b",
   "metadata": {
    "tags": []
   },
   "outputs": [
    {
     "name": "stdout",
     "output_type": "stream",
     "text": [
      "   province  quantity     amount  sales_target\n",
      "0       上海市    6051.0  237841.16        781000\n",
      "1       云南省    9741.0  345380.63        762000\n",
      "2       北京市    8993.0  352563.37       1150000\n",
      "3       吉林省    9161.0  374431.24       1237000\n",
      "4       四川省    8570.0  313076.67       1114000\n",
      "5       天津市    8902.0  353912.68       1090000\n",
      "6       安徽省    6566.0  232735.36        659000\n",
      "7       山东省   11002.0  366634.35        986000\n",
      "8       山西省    6870.0  290273.98        996000\n",
      "9       广东省    9100.0  353711.14       1120000\n",
      "10      江苏省   13084.0  479285.78       1911000\n",
      "11      江西省    5519.0  194139.69        561000\n",
      "12      河北省   23828.0  760139.99       2197000\n",
      "13      河南省    5496.0  210769.03        539000\n",
      "14      浙江省    2210.0   83220.22        745000\n",
      "15      海南省    7913.0  305120.44        899000\n",
      "16      湖北省    4139.0  162309.98        491000\n",
      "17      湖南省    2881.0  109268.77        318000\n",
      "18      甘肃省   13276.0  493367.17       1578000\n",
      "19      福建省    6152.0  218208.69        639000\n",
      "20      贵州省    4808.0  173033.35        466000\n",
      "21      辽宁省    5923.0  214609.93        733000\n",
      "22      重庆市    1116.0   38554.56        201000\n",
      "23      陕西省    6144.0  240155.07        816000\n",
      "24      青海省   11305.0  408545.08       1440000\n",
      "25     黑龙江省    5018.0  178461.13        571000\n"
     ]
    }
   ],
   "source": [
    "# 假设 df1 和 df2 是两个 DataFrame，有一个相同的 'id' 列\n",
    "# df1 包含其他列，df2 包含需要添加的两列数据 'column1' 和 'column2'\n",
    "\n",
    "# 合并两个 DataFrame，按照 'id' 列进行合并\n",
    "merged_data_new_2 = pd.merge(result_provice, result_province_single[['province', 'sales_target']], on='province', how='left')\n",
    "\n",
    "# 输出合并后的 DataFrame\n",
    "print(merged_data_new_2)\n"
   ]
  },
  {
   "cell_type": "code",
   "execution_count": 121,
   "id": "f75a58e8-085d-4cef-a143-0276123c3756",
   "metadata": {
    "tags": []
   },
   "outputs": [
    {
     "name": "stdout",
     "output_type": "stream",
     "text": [
      "差值结果:\n",
      "      city  quantity     amount  sales_target  difference\n",
      "0      三亚市    5715.0  195375.55      610000.0  -414624.45\n",
      "1      上海市    6051.0  237841.16      781000.0  -543158.84\n",
      "2      上饶市     846.0   29834.88       70000.0   -40165.12\n",
      "3      东方市     841.0   30945.06      122000.0   -91054.94\n",
      "4      东莞市      17.0     292.80           NaN         NaN\n",
      "..     ...       ...        ...           ...         ...\n",
      "131    黄冈市    1293.0   40815.04       70000.0   -29184.96\n",
      "132   黔东南州    1014.0   40216.79      100000.0   -59783.21\n",
      "133    黔南州    2013.0   71108.85      211000.0  -139891.15\n",
      "134   黔西南州     823.0   28942.63       37000.0    -8057.37\n",
      "135  齐齐哈尔市    1806.0   53597.34      190000.0  -136402.66\n",
      "\n",
      "[136 rows x 5 columns]\n"
     ]
    }
   ],
   "source": [
    "# 假设你有两列数据 'column1' 和 'column2'，计算它们的差值\n",
    "merged_data_new['difference'] = merged_data_new['amount'] - merged_data_new['sales_target']\n",
    "# 输出结果\n",
    "print(\"差值结果:\")\n",
    "print(merged_data_new)\n"
   ]
  },
  {
   "cell_type": "code",
   "execution_count": 122,
   "id": "b3a38747-59b9-423c-8904-e317fedfc0c1",
   "metadata": {
    "tags": []
   },
   "outputs": [
    {
     "name": "stdout",
     "output_type": "stream",
     "text": [
      "差值结果:\n",
      "   province  quantity     amount  sales_target  difference\n",
      "0       上海市    6051.0  237841.16        781000  -543158.84\n",
      "1       云南省    9741.0  345380.63        762000  -416619.37\n",
      "2       北京市    8993.0  352563.37       1150000  -797436.63\n",
      "3       吉林省    9161.0  374431.24       1237000  -862568.76\n",
      "4       四川省    8570.0  313076.67       1114000  -800923.33\n",
      "5       天津市    8902.0  353912.68       1090000  -736087.32\n",
      "6       安徽省    6566.0  232735.36        659000  -426264.64\n",
      "7       山东省   11002.0  366634.35        986000  -619365.65\n",
      "8       山西省    6870.0  290273.98        996000  -705726.02\n",
      "9       广东省    9100.0  353711.14       1120000  -766288.86\n",
      "10      江苏省   13084.0  479285.78       1911000 -1431714.22\n",
      "11      江西省    5519.0  194139.69        561000  -366860.31\n",
      "12      河北省   23828.0  760139.99       2197000 -1436860.01\n",
      "13      河南省    5496.0  210769.03        539000  -328230.97\n",
      "14      浙江省    2210.0   83220.22        745000  -661779.78\n",
      "15      海南省    7913.0  305120.44        899000  -593879.56\n",
      "16      湖北省    4139.0  162309.98        491000  -328690.02\n",
      "17      湖南省    2881.0  109268.77        318000  -208731.23\n",
      "18      甘肃省   13276.0  493367.17       1578000 -1084632.83\n",
      "19      福建省    6152.0  218208.69        639000  -420791.31\n",
      "20      贵州省    4808.0  173033.35        466000  -292966.65\n",
      "21      辽宁省    5923.0  214609.93        733000  -518390.07\n",
      "22      重庆市    1116.0   38554.56        201000  -162445.44\n",
      "23      陕西省    6144.0  240155.07        816000  -575844.93\n",
      "24      青海省   11305.0  408545.08       1440000 -1031454.92\n",
      "25     黑龙江省    5018.0  178461.13        571000  -392538.87\n"
     ]
    }
   ],
   "source": [
    "# 假设你有两列数据 'column1' 和 'column2'，计算它们的差值\n",
    "merged_data_new_2['difference'] = merged_data_new_2['amount'] - merged_data_new_2['sales_target']\n",
    "\n",
    "# 输出结果\n",
    "print(\"差值结果:\")\n",
    "print(merged_data_new_2)\n"
   ]
  },
  {
   "cell_type": "code",
   "execution_count": 123,
   "id": "1fb0823a-f11d-4a43-942b-486c64d48503",
   "metadata": {
    "tags": []
   },
   "outputs": [
    {
     "name": "stdout",
     "output_type": "stream",
     "text": [
      "差值结果:\n",
      "  area  quantity      amount  sales_target  difference\n",
      "0   东北   20102.0   767502.30       2541000 -1773497.70\n",
      "1   华东   50584.0  1812065.25       6282000 -4469934.75\n",
      "2   华中   12516.0   482347.78       1348000  -865652.22\n",
      "3   华北   48593.0  1756890.02       5433000 -3676109.98\n",
      "4   华南   17013.0   658831.58       2019000 -1360168.42\n",
      "5   西北   30725.0  1142067.32       3834000 -2691932.68\n",
      "6   西南   24235.0   870045.21       2543000 -1672954.79\n"
     ]
    }
   ],
   "source": [
    "# 假设你有两列数据 'column1' 和 'column2'，计算它们的差值\n",
    "merged_area_new['difference'] = merged_area_new['amount'] - merged_area_new['sales_target']\n",
    "\n",
    "# 输出结果\n",
    "print(\"差值结果:\")\n",
    "print(merged_area_new)\n"
   ]
  },
  {
   "cell_type": "code",
   "execution_count": 124,
   "id": "a3a26388-1dfd-404d-82ed-9d0fdc0405d0",
   "metadata": {
    "tags": []
   },
   "outputs": [
    {
     "name": "stdout",
     "output_type": "stream",
     "text": [
      "大于零的个数: 1\n",
      "小于零的个数: 116\n",
      "小于零的行的全部信息:\n",
      "      city  quantity     amount  sales_target  difference\n",
      "0      三亚市    5715.0  195375.55      610000.0  -414624.45\n",
      "1      上海市    6051.0  237841.16      781000.0  -543158.84\n",
      "2      上饶市     846.0   29834.88       70000.0   -40165.12\n",
      "3      东方市     841.0   30945.06      122000.0   -91054.94\n",
      "6      临汾市     678.0   34743.84       81000.0   -46256.16\n",
      "..     ...       ...        ...           ...         ...\n",
      "131    黄冈市    1293.0   40815.04       70000.0   -29184.96\n",
      "132   黔东南州    1014.0   40216.79      100000.0   -59783.21\n",
      "133    黔南州    2013.0   71108.85      211000.0  -139891.15\n",
      "134   黔西南州     823.0   28942.63       37000.0    -8057.37\n",
      "135  齐齐哈尔市    1806.0   53597.34      190000.0  -136402.66\n",
      "\n",
      "[116 rows x 5 columns]\n"
     ]
    }
   ],
   "source": [
    "\n",
    "# 统计大于零和小于零的个数\n",
    "count_greater_than_zero = (merged_data_new['difference'] > 0).sum()\n",
    "count_less_than_zero = (merged_data_new['difference'] < 0).sum()\n",
    "\n",
    "# 输出大于零和小于零的个数\n",
    "print(f\"大于零的个数: {count_greater_than_zero}\")\n",
    "print(f\"小于零的个数: {count_less_than_zero}\")\n",
    "\n",
    "# 输出小于零的行的全部信息\n",
    "rows_less_than_zero = merged_data_new[merged_data_new['difference'] < 0]\n",
    "print(\"小于零的行的全部信息:\")\n",
    "print(rows_less_than_zero)\n"
   ]
  },
  {
   "cell_type": "code",
   "execution_count": 125,
   "id": "0ef9e28b-0914-4aea-b4e1-d9222c2d4c99",
   "metadata": {
    "tags": []
   },
   "outputs": [
    {
     "name": "stdout",
     "output_type": "stream",
     "text": [
      "大于零的个数: 0\n",
      "小于零的个数: 26\n",
      "小于零的行的全部信息:\n",
      "   province  quantity     amount  sales_target  difference\n",
      "0       上海市    6051.0  237841.16        781000  -543158.84\n",
      "1       云南省    9741.0  345380.63        762000  -416619.37\n",
      "2       北京市    8993.0  352563.37       1150000  -797436.63\n",
      "3       吉林省    9161.0  374431.24       1237000  -862568.76\n",
      "4       四川省    8570.0  313076.67       1114000  -800923.33\n",
      "5       天津市    8902.0  353912.68       1090000  -736087.32\n",
      "6       安徽省    6566.0  232735.36        659000  -426264.64\n",
      "7       山东省   11002.0  366634.35        986000  -619365.65\n",
      "8       山西省    6870.0  290273.98        996000  -705726.02\n",
      "9       广东省    9100.0  353711.14       1120000  -766288.86\n",
      "10      江苏省   13084.0  479285.78       1911000 -1431714.22\n",
      "11      江西省    5519.0  194139.69        561000  -366860.31\n",
      "12      河北省   23828.0  760139.99       2197000 -1436860.01\n",
      "13      河南省    5496.0  210769.03        539000  -328230.97\n",
      "14      浙江省    2210.0   83220.22        745000  -661779.78\n",
      "15      海南省    7913.0  305120.44        899000  -593879.56\n",
      "16      湖北省    4139.0  162309.98        491000  -328690.02\n",
      "17      湖南省    2881.0  109268.77        318000  -208731.23\n",
      "18      甘肃省   13276.0  493367.17       1578000 -1084632.83\n",
      "19      福建省    6152.0  218208.69        639000  -420791.31\n",
      "20      贵州省    4808.0  173033.35        466000  -292966.65\n",
      "21      辽宁省    5923.0  214609.93        733000  -518390.07\n",
      "22      重庆市    1116.0   38554.56        201000  -162445.44\n",
      "23      陕西省    6144.0  240155.07        816000  -575844.93\n",
      "24      青海省   11305.0  408545.08       1440000 -1031454.92\n",
      "25     黑龙江省    5018.0  178461.13        571000  -392538.87\n"
     ]
    }
   ],
   "source": [
    "# 统计大于零和小于零的个数\n",
    "count_greater_than_zero = (merged_data_new_2['difference'] > 0).sum()\n",
    "count_less_than_zero = (merged_data_new_2['difference'] < 0).sum()\n",
    "\n",
    "# 输出大于零和小于零的个数\n",
    "print(f\"大于零的个数: {count_greater_than_zero}\")\n",
    "print(f\"小于零的个数: {count_less_than_zero}\")\n",
    "\n",
    "# 输出小于零的行的全部信息\n",
    "rows_less_than_zero = merged_data_new_2[merged_data_new_2['difference'] < 0]\n",
    "print(\"小于零的行的全部信息:\")\n",
    "print(rows_less_than_zero)\n"
   ]
  },
  {
   "cell_type": "code",
   "execution_count": 126,
   "id": "225c4d9d-3b83-4edc-96a9-fa3e8252cccd",
   "metadata": {
    "tags": []
   },
   "outputs": [
    {
     "name": "stdout",
     "output_type": "stream",
     "text": [
      "大于零的个数: 0\n",
      "小于零的个数: 7\n",
      "小于零的行的全部信息:\n",
      "  area  quantity      amount  sales_target  difference\n",
      "0   东北   20102.0   767502.30       2541000 -1773497.70\n",
      "1   华东   50584.0  1812065.25       6282000 -4469934.75\n",
      "2   华中   12516.0   482347.78       1348000  -865652.22\n",
      "3   华北   48593.0  1756890.02       5433000 -3676109.98\n",
      "4   华南   17013.0   658831.58       2019000 -1360168.42\n",
      "5   西北   30725.0  1142067.32       3834000 -2691932.68\n",
      "6   西南   24235.0   870045.21       2543000 -1672954.79\n"
     ]
    }
   ],
   "source": [
    "# 统计大于零和小于零的个数\n",
    "count_greater_than_zero = (merged_area_new['difference'] > 0).sum()\n",
    "count_less_than_zero = (merged_area_new['difference'] < 0).sum()\n",
    "\n",
    "# 输出大于零和小于零的个数\n",
    "print(f\"大于零的个数: {count_greater_than_zero}\")\n",
    "print(f\"小于零的个数: {count_less_than_zero}\")\n",
    "\n",
    "# 输出小于零的行的全部信息\n",
    "rows_less_than_zero = merged_area_new[merged_area_new['difference'] < 0]\n",
    "print(\"小于零的行的全部信息:\")\n",
    "print(rows_less_than_zero)\n"
   ]
  },
  {
   "cell_type": "code",
   "execution_count": 127,
   "id": "111f58f9-94d4-4eb5-90e1-343f202446b2",
   "metadata": {},
   "outputs": [
    {
     "name": "stdout",
     "output_type": "stream",
     "text": [
      "Index(['date', 'order_id', 'store_id', 'user_id', 'pro_id', 'quantity',\n",
      "       'amount', 'year'],\n",
      "      dtype='object')\n"
     ]
    }
   ],
   "source": [
    "print(data.columns)"
   ]
  },
  {
   "cell_type": "code",
   "execution_count": 128,
   "id": "a7049899-2107-49ff-b2bf-6dd89db13323",
   "metadata": {},
   "outputs": [
    {
     "data": {
      "image/png": "[encoded data removed]",
      "text/plain": [
       "<Figure size 432x288 with 1 Axes>"
      ]
     },
     "metadata": {
      "needs_background": "light"
     },
     "output_type": "display_data"
    },
    {
     "data": {
      "image/png": "[encoded data removed]",
      "text/plain": [
       "<Figure size 432x288 with 1 Axes>"
      ]
     },
     "metadata": {
      "needs_background": "light"
     },
     "output_type": "display_data"
    }
   ],
   "source": [
    "import pandas as pd\n",
    "import matplotlib.pyplot as plt\n",
    "\n",
    "# 读取数据\n",
    "data = pd.read_csv('./食品销售数据集-销售明细表.csv')\n",
    "\n",
    "# 提取年份\n",
    "data['year'] = pd.to_datetime(data['date']).dt.year\n",
    "\n",
    "# 绘制销售额的可视化图表\n",
    "fig, ax = plt.subplots()\n",
    "for year in data['year'].unique():\n",
    "    year_data = data[data['year'] == year]\n",
    "    ax.plot(year_data['quantity'], label=str(year))\n",
    "\n",
    "ax.set_title('Sales Quantity (2019-2021)')\n",
    "ax.set_xlabel('Data Index')\n",
    "ax.set_ylabel('Sales Quantity')\n",
    "ax.legend(loc='upper right')\n",
    "plt.show()\n",
    "\n",
    "# 绘制销售金额总和的可视化图表\n",
    "fig, ax = plt.subplots()\n",
    "for year in data['year'].unique():\n",
    "    year_data = data[data['year'] == year]\n",
    "    ax.plot(year_data['amount'], label=str(year))\n",
    "\n",
    "ax.set_title('Total Amount (2019-2021)')\n",
    "ax.set_xlabel('Data Index')\n",
    "ax.set_ylabel('Total Amount')\n",
    "ax.legend(loc='upper right')\n",
    "plt.show()\n"
   ]
  },
  {
   "cell_type": "code",
   "execution_count": null,
   "id": "cf3d3534-9675-4ea3-8a01-ad3555123c31",
   "metadata": {},
   "outputs": [],
   "source": []
  },
  {
   "cell_type": "code",
   "execution_count": null,
   "id": "8fd510ec-86e3-457d-bca4-29896cd2d6dd",
   "metadata": {},
   "outputs": [],
   "source": []
  },
  {
   "cell_type": "code",
   "execution_count": null,
   "id": "d409cca8-4a74-4606-9c90-0e3798f52b13",
   "metadata": {},
   "outputs": [],
   "source": []
  }
 ],
 "metadata": {
  "kernelspec": {
   "display_name": "Python 3 (ipykernel)",
   "language": "python",
   "name": "python3"
  },
  "language_info": {
   "codemirror_mode": {
    "name": "ipython",
    "version": 3
   },
   "file_extension": ".py",
   "mimetype": "text/x-python",
   "name": "python",
   "nbconvert_exporter": "python",
   "pygments_lexer": "ipython3",
   "version": "3.9.12"
  }
 },
 "nbformat": 4,
 "nbformat_minor": 5
}
